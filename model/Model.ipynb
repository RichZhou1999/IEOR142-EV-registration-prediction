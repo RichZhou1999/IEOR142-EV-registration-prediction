{
 "cells": [
  {
   "cell_type": "code",
   "execution_count": 14,
   "id": "562fa21e",
   "metadata": {},
   "outputs": [],
   "source": [
    "import numpy as np\n",
    "import pandas as pd\n",
    "import matplotlib\n",
    "import os\n",
    "import matplotlib.pyplot as plt\n",
    "import statsmodels.formula.api as smf\n",
    "from abc import ABCMeta, abstractmethod\n",
    "from sklearn.tree import DecisionTreeRegressor\n",
    "from sklearn.model_selection import GridSearchCV\n",
    "from sklearn.tree import DecisionTreeClassifier\n",
    "from sklearn.tree import plot_tree\n",
    "import bootstrapped.bootstrap as bs\n",
    "import bootstrapped.stats_functions as bs_stats\n",
    "from sklearn.model_selection import KFold\n",
    "from sklearn.ensemble import GradientBoostingClassifier\n",
    "from sklearn.model_selection import train_test_split\n",
    "from sklearn.ensemble import GradientBoostingRegressor\n",
    "from sklearn.metrics import accuracy_score\n",
    "from sklearn.metrics import mean_squared_error"
   ]
  },
  {
   "cell_type": "code",
   "execution_count": 2,
   "id": "bc396de4",
   "metadata": {},
   "outputs": [],
   "source": [
    "def read_data(path):\n",
    "    data = pd.read_csv(path)\n",
    "    return data"
   ]
  },
  {
   "cell_type": "code",
   "execution_count": 3,
   "id": "a81c3565",
   "metadata": {},
   "outputs": [],
   "source": [
    "path = os.path.realpath(os.path.join(os.getcwd() , '..', 'data_for_training', 'BEV_data_w_hpi.csv'))"
   ]
  },
  {
   "cell_type": "code",
   "execution_count": 4,
   "id": "d2e2bae2",
   "metadata": {},
   "outputs": [],
   "source": [
    "data = read_data(path)\n",
    "if \"Unnamed: 0.1\" in data.columns:\n",
    "    data = data.drop([\"Unnamed: 0.1\"], axis = 1)"
   ]
  },
  {
   "cell_type": "code",
   "execution_count": 5,
   "id": "09756384",
   "metadata": {},
   "outputs": [
    {
     "data": {
      "text/html": [
       "<div>\n",
       "<style scoped>\n",
       "    .dataframe tbody tr th:only-of-type {\n",
       "        vertical-align: middle;\n",
       "    }\n",
       "\n",
       "    .dataframe tbody tr th {\n",
       "        vertical-align: top;\n",
       "    }\n",
       "\n",
       "    .dataframe thead th {\n",
       "        text-align: right;\n",
       "    }\n",
       "</style>\n",
       "<table border=\"1\" class=\"dataframe\">\n",
       "  <thead>\n",
       "    <tr style=\"text-align: right;\">\n",
       "      <th></th>\n",
       "      <th>zip code</th>\n",
       "      <th>number_registration</th>\n",
       "      <th>Population</th>\n",
       "      <th>household count</th>\n",
       "      <th>&lt;10,000</th>\n",
       "      <th>10,000~14,999</th>\n",
       "      <th>15,000~24,999</th>\n",
       "      <th>25,000~34,999</th>\n",
       "      <th>35,000~49,999</th>\n",
       "      <th>50,000~74,999</th>\n",
       "      <th>75,000~99,999</th>\n",
       "      <th>100,000~149,999</th>\n",
       "      <th>150,000~199,999</th>\n",
       "      <th>&gt;200,000</th>\n",
       "      <th>EV charging station number</th>\n",
       "      <th>housing_price_index</th>\n",
       "    </tr>\n",
       "  </thead>\n",
       "  <tbody>\n",
       "    <tr>\n",
       "      <th>0</th>\n",
       "      <td>98575</td>\n",
       "      <td>1</td>\n",
       "      <td>142</td>\n",
       "      <td>73</td>\n",
       "      <td>13.7</td>\n",
       "      <td>0.0</td>\n",
       "      <td>8.2</td>\n",
       "      <td>12.3</td>\n",
       "      <td>12.3</td>\n",
       "      <td>19.2</td>\n",
       "      <td>15.1</td>\n",
       "      <td>12.3</td>\n",
       "      <td>2.7</td>\n",
       "      <td>4.1</td>\n",
       "      <td>2</td>\n",
       "      <td>290.76</td>\n",
       "    </tr>\n",
       "    <tr>\n",
       "      <th>1</th>\n",
       "      <td>98068</td>\n",
       "      <td>10</td>\n",
       "      <td>256</td>\n",
       "      <td>108</td>\n",
       "      <td>0.0</td>\n",
       "      <td>0.0</td>\n",
       "      <td>2.8</td>\n",
       "      <td>0.0</td>\n",
       "      <td>13.9</td>\n",
       "      <td>24.1</td>\n",
       "      <td>7.4</td>\n",
       "      <td>39.8</td>\n",
       "      <td>12.0</td>\n",
       "      <td>0.0</td>\n",
       "      <td>11</td>\n",
       "      <td>265.53</td>\n",
       "    </tr>\n",
       "    <tr>\n",
       "      <th>2</th>\n",
       "      <td>98814</td>\n",
       "      <td>6</td>\n",
       "      <td>376</td>\n",
       "      <td>217</td>\n",
       "      <td>2.3</td>\n",
       "      <td>26.7</td>\n",
       "      <td>4.6</td>\n",
       "      <td>14.3</td>\n",
       "      <td>12.4</td>\n",
       "      <td>23.5</td>\n",
       "      <td>6.0</td>\n",
       "      <td>10.1</td>\n",
       "      <td>0.0</td>\n",
       "      <td>0.0</td>\n",
       "      <td>0</td>\n",
       "      <td>239.77</td>\n",
       "    </tr>\n",
       "    <tr>\n",
       "      <th>3</th>\n",
       "      <td>98638</td>\n",
       "      <td>10</td>\n",
       "      <td>1225</td>\n",
       "      <td>493</td>\n",
       "      <td>4.3</td>\n",
       "      <td>5.1</td>\n",
       "      <td>8.9</td>\n",
       "      <td>15.0</td>\n",
       "      <td>13.8</td>\n",
       "      <td>21.9</td>\n",
       "      <td>14.4</td>\n",
       "      <td>10.5</td>\n",
       "      <td>2.2</td>\n",
       "      <td>3.9</td>\n",
       "      <td>0</td>\n",
       "      <td>172.13</td>\n",
       "    </tr>\n",
       "    <tr>\n",
       "      <th>4</th>\n",
       "      <td>98605</td>\n",
       "      <td>3</td>\n",
       "      <td>1165</td>\n",
       "      <td>417</td>\n",
       "      <td>5.0</td>\n",
       "      <td>5.3</td>\n",
       "      <td>15.3</td>\n",
       "      <td>8.9</td>\n",
       "      <td>12.7</td>\n",
       "      <td>24.0</td>\n",
       "      <td>13.9</td>\n",
       "      <td>13.4</td>\n",
       "      <td>1.4</td>\n",
       "      <td>0.0</td>\n",
       "      <td>2</td>\n",
       "      <td>366.78</td>\n",
       "    </tr>\n",
       "  </tbody>\n",
       "</table>\n",
       "</div>"
      ],
      "text/plain": [
       "   zip code  number_registration  Population  household count  <10,000  \\\n",
       "0     98575                    1         142               73     13.7   \n",
       "1     98068                   10         256              108      0.0   \n",
       "2     98814                    6         376              217      2.3   \n",
       "3     98638                   10        1225              493      4.3   \n",
       "4     98605                    3        1165              417      5.0   \n",
       "\n",
       "   10,000~14,999  15,000~24,999  25,000~34,999  35,000~49,999  50,000~74,999  \\\n",
       "0            0.0            8.2           12.3           12.3           19.2   \n",
       "1            0.0            2.8            0.0           13.9           24.1   \n",
       "2           26.7            4.6           14.3           12.4           23.5   \n",
       "3            5.1            8.9           15.0           13.8           21.9   \n",
       "4            5.3           15.3            8.9           12.7           24.0   \n",
       "\n",
       "   75,000~99,999  100,000~149,999  150,000~199,999  >200,000  \\\n",
       "0           15.1             12.3              2.7       4.1   \n",
       "1            7.4             39.8             12.0       0.0   \n",
       "2            6.0             10.1              0.0       0.0   \n",
       "3           14.4             10.5              2.2       3.9   \n",
       "4           13.9             13.4              1.4       0.0   \n",
       "\n",
       "   EV charging station number  housing_price_index  \n",
       "0                           2               290.76  \n",
       "1                          11               265.53  \n",
       "2                           0               239.77  \n",
       "3                           0               172.13  \n",
       "4                           2               366.78  "
      ]
     },
     "execution_count": 5,
     "metadata": {},
     "output_type": "execute_result"
    }
   ],
   "source": [
    "data.head()"
   ]
  },
  {
   "cell_type": "code",
   "execution_count": 6,
   "id": "feb9765a",
   "metadata": {},
   "outputs": [],
   "source": [
    "y = data[\"number_registration\"]\n",
    "X = data.drop(['number_registration',\"zip code\" ], axis =1).fillna(0)\n",
    "X_train, X_test, y_train, y_test = train_test_split( X, y, test_size=0.3, random_state=88)"
   ]
  },
  {
   "cell_type": "code",
   "execution_count": null,
   "id": "599186ce",
   "metadata": {},
   "outputs": [],
   "source": [
    "print(X_train)"
   ]
  },
  {
   "cell_type": "code",
   "execution_count": 19,
   "id": "62680923",
   "metadata": {},
   "outputs": [],
   "source": [
    "def OSR2(model, X_test, y_test, y_train):\n",
    "    y_pred = model.predict(X_test)\n",
    "    SSE = np.sum((y_test - y_pred)**2)\n",
    "    SST = np.sum((y_test - np.mean(y_train))**2)\n",
    "    return (1- SSE/SST)"
   ]
  },
  {
   "cell_type": "markdown",
   "id": "512063e4",
   "metadata": {},
   "source": [
    "### GradientBoostingRegressor"
   ]
  },
  {
   "cell_type": "code",
   "execution_count": 21,
   "id": "57db3867",
   "metadata": {},
   "outputs": [
    {
     "name": "stdout",
     "output_type": "stream",
     "text": [
      "OSR2:  0.9129423703112861\n"
     ]
    }
   ],
   "source": [
    "reg = GradientBoostingRegressor(random_state=88)\n",
    "reg.fit(X_train, y_train)\n",
    "print(\"OSR2: \",OSR2(reg, X_test, y_test, y_train))"
   ]
  },
  {
   "cell_type": "code",
   "execution_count": null,
   "id": "6b5e6311",
   "metadata": {},
   "outputs": [],
   "source": []
  }
 ],
 "metadata": {
  "kernelspec": {
   "display_name": "Python 3 (ipykernel)",
   "language": "python",
   "name": "python3"
  },
  "language_info": {
   "codemirror_mode": {
    "name": "ipython",
    "version": 3
   },
   "file_extension": ".py",
   "mimetype": "text/x-python",
   "name": "python",
   "nbconvert_exporter": "python",
   "pygments_lexer": "ipython3",
   "version": "3.9.13"
  }
 },
 "nbformat": 4,
 "nbformat_minor": 5
}
